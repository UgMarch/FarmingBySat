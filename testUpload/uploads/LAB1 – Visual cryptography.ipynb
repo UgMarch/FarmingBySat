{
 "cells": [
  {
   "cell_type": "markdown",
   "metadata": {
    "deletable": true,
    "editable": true
   },
   "source": [
    "# LAB 1 &ndash; Visual cryptography\n",
    "\n",
    "In order to make sense of some of the things we mentioned in class, it is useful to see them in action on image files; for we, as humans, are quite good at visually detecting patterns in an array of pixels. Use SHIFT+ENTER (or the \"Play\" button above) to evaluate a cell.\n",
    "\n",
    "First thing to do: double-click on this text cell to write your <b style=\"color: red\">BEQUART Valentin, BERTIN Théo, BRACONNIER Martin, QUAMENDA Quentin</b>."
   ]
  },
  {
   "cell_type": "markdown",
   "metadata": {
    "deletable": true,
    "editable": true
   },
   "source": [
    "## 1) First attempt\n",
    "\n",
    "Here is a picture of Bletchley Park, where modern computing was born as Alan Turing and thousands of cryptananalysists worked on the breaking of the German codes during WWII:"
   ]
  },
  {
   "cell_type": "code",
   "execution_count": null,
   "metadata": {
    "collapsed": false,
    "deletable": true,
    "editable": true
   },
   "outputs": [],
   "source": [
    "load(\"Image.sage\")\n",
    "\n",
    "m = LoadImage(\"bletchley.tiff\")\n",
    "m                                # displays it"
   ]
  },
  {
   "cell_type": "markdown",
   "metadata": {
    "deletable": true,
    "editable": true
   },
   "source": [
    "Internally, it's just a $288 \\times 460$ matrix of pixels, each of which is colored according to a RGB triple of integers between 0 and 255:"
   ]
  },
  {
   "cell_type": "code",
   "execution_count": null,
   "metadata": {
    "collapsed": false,
    "deletable": true,
    "editable": true
   },
   "outputs": [],
   "source": [
    "m.data"
   ]
  },
  {
   "cell_type": "markdown",
   "metadata": {
    "deletable": true,
    "editable": true
   },
   "source": [
    "Recall that the goal of encryption would be to reversibly make it look like a random image of the same size just like this one:"
   ]
  },
  {
   "cell_type": "code",
   "execution_count": null,
   "metadata": {
    "collapsed": false,
    "deletable": true,
    "editable": true
   },
   "outputs": [],
   "source": [
    "RandomImage(288,460)"
   ]
  },
  {
   "cell_type": "markdown",
   "metadata": {
    "collapsed": true,
    "deletable": true,
    "editable": true
   },
   "source": [
    "As a single pixel is encoded on $3 \\times 8 = 24$ bits, a $4 \\times 4$ block of pixels is encoded on $16 \\times 24 = 384$ bits, which give us more than enough room to store a secure symmetric encryption key."
   ]
  },
  {
   "cell_type": "code",
   "execution_count": null,
   "metadata": {
    "collapsed": false,
    "deletable": true,
    "editable": true
   },
   "outputs": [],
   "source": [
    "k = RandomImage(4,4); k"
   ]
  },
  {
   "cell_type": "code",
   "execution_count": null,
   "metadata": {
    "collapsed": false
   },
   "outputs": [],
   "source": [
    "pad = Image(numpy.tile(k.data, (288/4,460/4,1)))\n",
    "pad"
   ]
  },
  {
   "cell_type": "markdown",
   "metadata": {},
   "source": [
    "Et voilà! Here's the picture, encrypted by a 384-bit key:"
   ]
  },
  {
   "cell_type": "code",
   "execution_count": null,
   "metadata": {
    "collapsed": false
   },
   "outputs": [],
   "source": [
    "m + pad    # pixel values are xor-ed together"
   ]
  },
  {
   "cell_type": "markdown",
   "metadata": {},
   "source": [
    "<b>To do:</b> Discuss the result. Would you say that this cipher provides perfect secrecy? \n",
    "On ne pourra pas retrouver l'endroit de la photo, mais on peut deviner des arbres et un batiment sur la photo, donc secrecy non parfaite.\n"
   ]
  },
  {
   "cell_type": "markdown",
   "metadata": {},
   "source": []
  },
  {
   "cell_type": "markdown",
   "metadata": {},
   "source": [
    "## 2) One-time pad\n",
    "\n",
    "Go through the same process, this time with a genuine randomly generated one-time pad as large as the image to encrypt."
   ]
  },
  {
   "cell_type": "code",
   "execution_count": null,
   "metadata": {
    "collapsed": false
   },
   "outputs": [],
   "source": [
    "k = RandomImage(288,460)\n",
    "k"
   ]
  },
  {
   "cell_type": "markdown",
   "metadata": {},
   "source": [
    "What's the key-length this time?"
   ]
  },
  {
   "cell_type": "code",
   "execution_count": null,
   "metadata": {
    "collapsed": false
   },
   "outputs": [],
   "source": [
    "nb = 288*460*24;\n",
    "nb"
   ]
  },
  {
   "cell_type": "markdown",
   "metadata": {},
   "source": [
    "Verify that the cipher decrypts correctly, <i>i.e.</i> play both the roles of Alice and Bob to see that everything works as it should. Also make sure to take a look at what Eve actually sees on the insecure channel."
   ]
  },
  {
   "cell_type": "code",
   "execution_count": null,
   "metadata": {
    "collapsed": false
   },
   "outputs": [],
   "source": [
    "a = m + k;\n",
    "a "
   ]
  },
  {
   "cell_type": "code",
   "execution_count": null,
   "metadata": {
    "collapsed": false
   },
   "outputs": [],
   "source": [
    "a + k"
   ]
  },
  {
   "cell_type": "markdown",
   "metadata": {},
   "source": [
    "## 3) Two-time pad\n",
    "\n",
    "Wow, this works well. In the excitation of the moment, I started encrypting all my images... but forgot to apply one of the most important usage rules of the one-time pad when I encrypted the following two images. Can you find out what they were?"
   ]
  },
  {
   "cell_type": "code",
   "execution_count": null,
   "metadata": {
    "collapsed": false
   },
   "outputs": [],
   "source": [
    "c1 = LoadImage(\"c1.tiff\"); c1"
   ]
  },
  {
   "cell_type": "code",
   "execution_count": null,
   "metadata": {
    "collapsed": false
   },
   "outputs": [],
   "source": [
    "c2 = LoadImage(\"c2.tiff\"); c2"
   ]
  },
  {
   "cell_type": "code",
   "execution_count": null,
   "metadata": {
    "collapsed": false
   },
   "outputs": [],
   "source": [
    "c1 + c2"
   ]
  },
  {
   "cell_type": "markdown",
   "metadata": {},
   "source": [
    "On est donc capable de deviner les images de départ, Bob et Alice, en appliquant le principe : (C1 = m1 + k et c2 = m2 + k sachant que les + sont des XOR, donc en faisant c1 + c2, les k se suppriment, on obtient une superposition des deux images de départ)."
   ]
  },
  {
   "cell_type": "markdown",
   "metadata": {},
   "source": [
    "## 4) Weak random number generator\n",
    "\n",
    "After realizing my mistake, I decided to generate pads from a 128-bit key by using it as a seed for a linear congruence generator modulo the following 128-bit prime:"
   ]
  },
  {
   "cell_type": "code",
   "execution_count": null,
   "metadata": {
    "collapsed": false
   },
   "outputs": [],
   "source": [
    "p = 340282366920938463463374607431768211507\n",
    "\n",
    "is_prime(p)"
   ]
  },
  {
   "cell_type": "markdown",
   "metadata": {},
   "source": [
    "Since such a PRNG is characterized by two 128-bit integers $a$ and $b$ which were chosen at random, there should be more than enough entropy to protect my 128-bit key, right? Here are the first few outputs from the LCG:\n",
    "\n",
    "217692597915196650809181220736554072509,\n",
    "101697276836279744146238049998237762682,\n",
    "265181937610212296333751058245677871006,\n",
    "84171444745593992579687306707926595136,\n",
    "12455596861516498286468598807461112654,\n",
    "...\n",
    "\n",
    "prove me wrong by finding out which seed (<i>i.e.</i> \"private key\") was used."
   ]
  },
  {
   "cell_type": "markdown",
   "metadata": {},
   "source": [
    "Nous faisons le choix de considérer les coefficients a et b comme ceux d'une fonction affine, nous appliquons donc la méthode de recherche des coefficients de ce type de ce type de fonction."
   ]
  },
  {
   "cell_type": "code",
   "execution_count": null,
   "metadata": {
    "collapsed": false
   },
   "outputs": [],
   "source": [
    "x1 = 217692597915196650809181220736554072509;\n",
    "x2 = 101697276836279744146238049998237762682;\n",
    "fx1 = 101697276836279744146238049998237762682;\n",
    "fx2 = 265181937610212296333751058245677871006;\n",
    "a = (fx2 - fx1) / (x2 - x1);\n",
    "a\n"
   ]
  },
  {
   "cell_type": "code",
   "execution_count": null,
   "metadata": {
    "collapsed": false
   },
   "outputs": [],
   "source": [
    "b = x2 - (a*x1);\n",
    "b"
   ]
  },
  {
   "cell_type": "markdown",
   "metadata": {},
   "source": [
    "Effectuons un test pour vérifier qu'en rentrant la deuxième valeur donnée dans l'énoncé, nous retrouvons bien la troisième"
   ]
  },
  {
   "cell_type": "code",
   "execution_count": null,
   "metadata": {
    "collapsed": false
   },
   "outputs": [],
   "source": [
    "r = a*x2 + b\n",
    "r == fx2"
   ]
  },
  {
   "cell_type": "markdown",
   "metadata": {},
   "source": [
    "Il ne reste plus qu'à retrouver la racine, en précisant que la sortie de celle-ci dans la fonction se trouve être x1, soit la première valeur donnée dans l'énoncé."
   ]
  },
  {
   "cell_type": "code",
   "execution_count": null,
   "metadata": {
    "collapsed": false
   },
   "outputs": [],
   "source": [
    "x0 = (x1 - b)/a\n",
    "x0%p"
   ]
  },
  {
   "cell_type": "markdown",
   "metadata": {},
   "source": [
    "Nous pensons avoir trouvé notre racine, une dernière vérification s'impose:"
   ]
  },
  {
   "cell_type": "code",
   "execution_count": null,
   "metadata": {
    "collapsed": false
   },
   "outputs": [],
   "source": [
    "(a*x1+b) % p"
   ]
  },
  {
   "cell_type": "markdown",
   "metadata": {},
   "source": [
    "## 5) Genuine stream cipher\n",
    "\n",
    "Ok, now it's time to start doing things properly. We will use the still-standard-albeit-somewhat-deprecated RC4 pseudo-random number generator to generate a key-stream from a 128-bit key. We first aquire 128 bits of \"real\" random data from the entropy pool of the system. "
   ]
  },
  {
   "cell_type": "code",
   "execution_count": null,
   "metadata": {
    "collapsed": false
   },
   "outputs": [],
   "source": [
    "k = os.urandom(16)      # 16 bytes of entropy coming from /dev/urandom\n",
    "k.encode('hex')"
   ]
  },
  {
   "cell_type": "code",
   "execution_count": null,
   "metadata": {
    "collapsed": true
   },
   "outputs": [],
   "source": [
    "load(\"RC4.sage\")\n",
    "prng = RC4(k)"
   ]
  },
  {
   "cell_type": "markdown",
   "metadata": {},
   "source": [
    "<b>prng</b> is now an instance of the RC4 PRNG initialized with seed $k$; you can get its successive outputs by typing <b>prng.next()</b>.\n",
    "\n",
    "Use this to generate of pseudo-random pad from $k$, and then encrypt the Bletchley Park picture with it. Make sure that Bob will be able to decrypt it knowing only $k$. "
   ]
  },
  {
   "cell_type": "code",
   "execution_count": null,
   "metadata": {
    "collapsed": false
   },
   "outputs": [],
   "source": [
    "prng.next()"
   ]
  },
  {
   "cell_type": "code",
   "execution_count": null,
   "metadata": {
    "collapsed": false
   },
   "outputs": [],
   "source": [
    "#original image\n",
    "\n",
    "m = LoadImage(\"bletchley.tiff\")\n",
    "m"
   ]
  },
  {
   "cell_type": "code",
   "execution_count": null,
   "metadata": {
    "collapsed": false
   },
   "outputs": [],
   "source": [
    "#encrypting\n",
    "\n",
    "c = m\n",
    "k = os.urandom(16)\n",
    "prng = RC4(k)\n",
    "\n",
    "for i in [0..287] :\n",
    "    for j in [0..459] :\n",
    "        for l in [0..2] :\n",
    "            c.data[i][j][l] += prng.next()\n",
    "c"
   ]
  },
  {
   "cell_type": "code",
   "execution_count": null,
   "metadata": {
    "collapsed": false
   },
   "outputs": [],
   "source": [
    "#decrypting\n",
    "\n",
    "prng = RC4(k)\n",
    "d = c\n",
    "\n",
    "for i in [0..287] :\n",
    "    for j in [0..459] :\n",
    "        for l in [0..2] :\n",
    "            d.data[i][j][l] -= prng.next()\n",
    "d"
   ]
  }
 ],
 "metadata": {
  "kernelspec": {
   "display_name": "SageMath 7.2",
   "language": "",
   "name": "sagemath"
  },
  "language_info": {
   "codemirror_mode": {
    "name": "ipython",
    "version": 2
   },
   "file_extension": ".py",
   "mimetype": "text/x-python",
   "name": "python",
   "nbconvert_exporter": "python",
   "pygments_lexer": "ipython2",
   "version": "2.7.10"
  }
 },
 "nbformat": 4,
 "nbformat_minor": 2
}
